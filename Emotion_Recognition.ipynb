{
 "cells": [
  {
   "cell_type": "code",
   "execution_count": 1,
   "id": "e28e293c-431e-4d7f-852b-30864d290269",
   "metadata": {},
   "outputs": [],
   "source": [
    "import pandas as pd\n",
    "from sklearn.feature_extraction.text import CountVectorizer\n",
    "from sklearn.model_selection import train_test_split\n",
    "from sklearn.naive_bayes import MultinomialNB\n",
    "from sklearn.metrics import accuracy_score, classification_report\n",
    "import nltk\n",
    "from nltk.corpus import stopwords\n",
    "import string"
   ]
  },
  {
   "cell_type": "code",
   "execution_count": 2,
   "id": "27c3b6ef-e324-430b-b572-6b7a6e5625f6",
   "metadata": {},
   "outputs": [
    {
     "name": "stderr",
     "output_type": "stream",
     "text": [
      "[nltk_data] Downloading package stopwords to\n",
      "[nltk_data]     C:\\Users\\jisma\\AppData\\Roaming\\nltk_data...\n",
      "[nltk_data]   Package stopwords is already up-to-date!\n"
     ]
    },
    {
     "data": {
      "text/plain": [
       "True"
      ]
     },
     "execution_count": 2,
     "metadata": {},
     "output_type": "execute_result"
    }
   ],
   "source": [
    "# Download necessary NLTK data\n",
    "nltk.download('stopwords')"
   ]
  },
  {
   "cell_type": "code",
   "execution_count": 3,
   "id": "1910d580-651e-4788-8ac2-ec368213d294",
   "metadata": {},
   "outputs": [],
   "source": [
    "df=pd.read_csv('nlp_dataset.csv')"
   ]
  },
  {
   "cell_type": "code",
   "execution_count": 4,
   "id": "c38d3d6d-0cfb-4bb1-95fc-ff1f0d839b1a",
   "metadata": {},
   "outputs": [
    {
     "data": {
      "text/html": [
       "<div>\n",
       "<style scoped>\n",
       "    .dataframe tbody tr th:only-of-type {\n",
       "        vertical-align: middle;\n",
       "    }\n",
       "\n",
       "    .dataframe tbody tr th {\n",
       "        vertical-align: top;\n",
       "    }\n",
       "\n",
       "    .dataframe thead th {\n",
       "        text-align: right;\n",
       "    }\n",
       "</style>\n",
       "<table border=\"1\" class=\"dataframe\">\n",
       "  <thead>\n",
       "    <tr style=\"text-align: right;\">\n",
       "      <th></th>\n",
       "      <th>Comment</th>\n",
       "      <th>Emotion</th>\n",
       "    </tr>\n",
       "  </thead>\n",
       "  <tbody>\n",
       "    <tr>\n",
       "      <th>0</th>\n",
       "      <td>i seriously hate one subject to death but now ...</td>\n",
       "      <td>fear</td>\n",
       "    </tr>\n",
       "    <tr>\n",
       "      <th>1</th>\n",
       "      <td>im so full of life i feel appalled</td>\n",
       "      <td>anger</td>\n",
       "    </tr>\n",
       "    <tr>\n",
       "      <th>2</th>\n",
       "      <td>i sit here to write i start to dig out my feel...</td>\n",
       "      <td>fear</td>\n",
       "    </tr>\n",
       "    <tr>\n",
       "      <th>3</th>\n",
       "      <td>ive been really angry with r and i feel like a...</td>\n",
       "      <td>joy</td>\n",
       "    </tr>\n",
       "    <tr>\n",
       "      <th>4</th>\n",
       "      <td>i feel suspicious if there is no one outside l...</td>\n",
       "      <td>fear</td>\n",
       "    </tr>\n",
       "  </tbody>\n",
       "</table>\n",
       "</div>"
      ],
      "text/plain": [
       "                                             Comment Emotion\n",
       "0  i seriously hate one subject to death but now ...    fear\n",
       "1                 im so full of life i feel appalled   anger\n",
       "2  i sit here to write i start to dig out my feel...    fear\n",
       "3  ive been really angry with r and i feel like a...     joy\n",
       "4  i feel suspicious if there is no one outside l...    fear"
      ]
     },
     "execution_count": 4,
     "metadata": {},
     "output_type": "execute_result"
    }
   ],
   "source": [
    "df.head()"
   ]
  },
  {
   "cell_type": "code",
   "execution_count": 5,
   "id": "452b953f-d62e-4db0-ac61-72b2acd15933",
   "metadata": {},
   "outputs": [
    {
     "name": "stdout",
     "output_type": "stream",
     "text": [
      "<class 'pandas.core.frame.DataFrame'>\n",
      "RangeIndex: 5937 entries, 0 to 5936\n",
      "Data columns (total 2 columns):\n",
      " #   Column   Non-Null Count  Dtype \n",
      "---  ------   --------------  ----- \n",
      " 0   Comment  5937 non-null   object\n",
      " 1   Emotion  5937 non-null   object\n",
      "dtypes: object(2)\n",
      "memory usage: 92.9+ KB\n"
     ]
    }
   ],
   "source": [
    "df.info()"
   ]
  },
  {
   "cell_type": "code",
   "execution_count": 6,
   "id": "44e63bde-a4f0-4063-8835-631835eea22b",
   "metadata": {},
   "outputs": [
    {
     "data": {
      "text/plain": [
       "Emotion\n",
       "anger    2000\n",
       "joy      2000\n",
       "fear     1937\n",
       "Name: count, dtype: int64"
      ]
     },
     "execution_count": 6,
     "metadata": {},
     "output_type": "execute_result"
    }
   ],
   "source": [
    "df.Emotion.value_counts()"
   ]
  },
  {
   "cell_type": "code",
   "execution_count": 7,
   "id": "09276df1-d3c7-4492-852f-f29ebb2c3582",
   "metadata": {},
   "outputs": [],
   "source": [
    "# Preprocess the data\n",
    "stop_words = set(stopwords.words('english'))\n",
    "def preprocess_text(text):\n",
    "    text = text.lower()  # Lowercase text\n",
    "    text = text.translate(str.maketrans('', '', string.punctuation))  # Remove punctuation\n",
    "    text = ' '.join(word for word in text.split() if word not in stop_words)  # Remove stopwords\n",
    "    return text"
   ]
  },
  {
   "cell_type": "code",
   "execution_count": 8,
   "id": "ed343bc9-26d6-446a-9daf-5b6c1d16d7f3",
   "metadata": {},
   "outputs": [],
   "source": [
    "df['Comment'] = df['Comment'].apply(preprocess_text)"
   ]
  },
  {
   "cell_type": "code",
   "execution_count": 9,
   "id": "1b043365-e1d7-46bf-99ff-48bdfe1d0b52",
   "metadata": {},
   "outputs": [
    {
     "data": {
      "text/html": [
       "<div>\n",
       "<style scoped>\n",
       "    .dataframe tbody tr th:only-of-type {\n",
       "        vertical-align: middle;\n",
       "    }\n",
       "\n",
       "    .dataframe tbody tr th {\n",
       "        vertical-align: top;\n",
       "    }\n",
       "\n",
       "    .dataframe thead th {\n",
       "        text-align: right;\n",
       "    }\n",
       "</style>\n",
       "<table border=\"1\" class=\"dataframe\">\n",
       "  <thead>\n",
       "    <tr style=\"text-align: right;\">\n",
       "      <th></th>\n",
       "      <th>Comment</th>\n",
       "      <th>Emotion</th>\n",
       "    </tr>\n",
       "  </thead>\n",
       "  <tbody>\n",
       "    <tr>\n",
       "      <th>0</th>\n",
       "      <td>seriously hate one subject death feel reluctan...</td>\n",
       "      <td>fear</td>\n",
       "    </tr>\n",
       "    <tr>\n",
       "      <th>1</th>\n",
       "      <td>im full life feel appalled</td>\n",
       "      <td>anger</td>\n",
       "    </tr>\n",
       "    <tr>\n",
       "      <th>2</th>\n",
       "      <td>sit write start dig feelings think afraid acce...</td>\n",
       "      <td>fear</td>\n",
       "    </tr>\n",
       "    <tr>\n",
       "      <th>3</th>\n",
       "      <td>ive really angry r feel like idiot trusting fi...</td>\n",
       "      <td>joy</td>\n",
       "    </tr>\n",
       "    <tr>\n",
       "      <th>4</th>\n",
       "      <td>feel suspicious one outside like rapture happe...</td>\n",
       "      <td>fear</td>\n",
       "    </tr>\n",
       "  </tbody>\n",
       "</table>\n",
       "</div>"
      ],
      "text/plain": [
       "                                             Comment Emotion\n",
       "0  seriously hate one subject death feel reluctan...    fear\n",
       "1                         im full life feel appalled   anger\n",
       "2  sit write start dig feelings think afraid acce...    fear\n",
       "3  ive really angry r feel like idiot trusting fi...     joy\n",
       "4  feel suspicious one outside like rapture happe...    fear"
      ]
     },
     "execution_count": 9,
     "metadata": {},
     "output_type": "execute_result"
    }
   ],
   "source": [
    "df.head()"
   ]
  },
  {
   "cell_type": "code",
   "execution_count": 10,
   "id": "265d87bf-17de-4a76-8bb1-b6ba4c3ff08e",
   "metadata": {},
   "outputs": [],
   "source": [
    "# Feature extraction\n",
    "vectorizer = CountVectorizer()\n",
    "X = vectorizer.fit_transform(df['Comment'])\n",
    "y = df['Emotion']"
   ]
  },
  {
   "cell_type": "code",
   "execution_count": 15,
   "id": "f3535f64-83b8-4c5f-a473-c899260f5ff9",
   "metadata": {},
   "outputs": [
    {
     "name": "stdout",
     "output_type": "stream",
     "text": [
      "\n",
      "Vocabulary:\n",
      "['aa' 'aac' 'aaron' ... 'zonisamide' 'zq' 'zumba']\n",
      "Total number of items in the vocabulary: 8817\n"
     ]
    }
   ],
   "source": [
    "# Print the vocabulary\n",
    "print(\"\\nVocabulary:\")\n",
    "print(vectorizer.get_feature_names_out())\n",
    "\n",
    "# Get the total number of items in the vocabulary\n",
    "vocabulary_size = len(vectorizer.get_feature_names_out())\n",
    "print(f'Total number of items in the vocabulary: {vocabulary_size}')\n"
   ]
  },
  {
   "cell_type": "code",
   "execution_count": 11,
   "id": "20cd8bc6-9997-4184-a2b0-5d3ab9f9dd21",
   "metadata": {},
   "outputs": [],
   "source": [
    "# Split the data\n",
    "X_train, X_test, y_train, y_test = train_test_split(X, y, test_size=0.2, random_state=42)\n"
   ]
  },
  {
   "cell_type": "code",
   "execution_count": 16,
   "id": "9a0bf34b-6124-4496-a765-6b4b473bd7dd",
   "metadata": {},
   "outputs": [
    {
     "name": "stdout",
     "output_type": "stream",
     "text": [
      "Accuracy: 0.8956228956228957\n",
      "Classification Report:\n",
      "              precision    recall  f1-score   support\n",
      "\n",
      "       anger       0.88      0.93      0.90       392\n",
      "        fear       0.89      0.93      0.90       416\n",
      "         joy       0.93      0.83      0.88       380\n",
      "\n",
      "    accuracy                           0.90      1188\n",
      "   macro avg       0.90      0.89      0.89      1188\n",
      "weighted avg       0.90      0.90      0.90      1188\n",
      "\n"
     ]
    }
   ],
   "source": [
    "# Train the model\n",
    "model = MultinomialNB()\n",
    "model.fit(X_train, y_train)\n",
    "\n",
    "# Make predictions\n",
    "y_pred = model.predict(X_test)\n",
    "\n",
    "# Evaluate the model\n",
    "accuracy = accuracy_score(y_test, y_pred)\n",
    "print(f'Accuracy: {accuracy}')\n",
    "print('Classification Report:')\n",
    "print(classification_report(y_test, y_pred))"
   ]
  },
  {
   "cell_type": "code",
   "execution_count": 20,
   "id": "63fd2c0e-57f7-47ab-aef4-5dbcd65b4144",
   "metadata": {},
   "outputs": [
    {
     "name": "stdout",
     "output_type": "stream",
     "text": [
      "Accuracy: 0.9553872053872053\n",
      "Classification Report:\n",
      "              precision    recall  f1-score   support\n",
      "\n",
      "       anger       0.94      0.96      0.95       392\n",
      "        fear       0.97      0.94      0.95       416\n",
      "         joy       0.95      0.97      0.96       380\n",
      "\n",
      "    accuracy                           0.96      1188\n",
      "   macro avg       0.96      0.96      0.96      1188\n",
      "weighted avg       0.96      0.96      0.96      1188\n",
      "\n"
     ]
    }
   ],
   "source": [
    "from sklearn.svm import SVC\n",
    "# Train the SVM model\n",
    "svc_model = SVC(kernel='linear')  # You can experiment with different kernels (e.g., 'rbf', 'poly')\n",
    "svc_model.fit(X_train, y_train)\n",
    "\n",
    "# Make predictions\n",
    "svc_pred = svc_model.predict(X_test)\n",
    "\n",
    "# Evaluate the model\n",
    "accuracy = accuracy_score(y_test, svc_pred)\n",
    "print(f'Accuracy: {accuracy}')\n",
    "print('Classification Report:')\n",
    "print(classification_report(y_test, svc_pred))"
   ]
  },
  {
   "cell_type": "code",
   "execution_count": 17,
   "id": "399e52f1-42f2-4367-926d-e4a58d1be653",
   "metadata": {},
   "outputs": [
    {
     "name": "stdout",
     "output_type": "stream",
     "text": [
      "Comment: I feel so happy and content with my recent achievements!\n",
      "Predicted Emotion: joy\n",
      "\n",
      "Comment: I can't believe how terrible this situation is, it's driving me mad.\n",
      "Predicted Emotion: anger\n",
      "\n",
      "Comment: I am unsure and nervous about the upcoming exam.\n",
      "Predicted Emotion: fear\n",
      "\n"
     ]
    }
   ],
   "source": [
    "# Define new unseen comments\n",
    "new_comments = [\n",
    "    \"I feel so happy and content with my recent achievements!\",\n",
    "    \"I can't believe how terrible this situation is, it's driving me mad.\",\n",
    "    \"I am unsure and nervous about the upcoming exam.\"\n",
    "]\n",
    "\n",
    "# Preprocess the new comments\n",
    "new_comments_processed = [preprocess_text(comment) for comment in new_comments]\n",
    "\n",
    "# Transform the new comments using the same vectorizer\n",
    "new_comments_vectorized = vectorizer.transform(new_comments_processed)\n",
    "\n",
    "# Predict the emotions using the trained model\n",
    "predictions = model.predict(new_comments_vectorized)\n",
    "\n",
    "# Print the predictions\n",
    "for comment, prediction in zip(new_comments, predictions):\n",
    "    print(f\"Comment: {comment}\")\n",
    "    print(f\"Predicted Emotion: {prediction}\")\n",
    "    print()\n"
   ]
  },
  {
   "cell_type": "code",
   "execution_count": 21,
   "id": "e9769ca3-c2f2-4bbc-a43d-a514772c82e7",
   "metadata": {},
   "outputs": [
    {
     "name": "stdout",
     "output_type": "stream",
     "text": [
      "Comment: I feel so happy and content with my recent achievements!\n",
      "Predicted Emotion: joy\n",
      "\n",
      "Comment: I can't believe how terrible this situation is, it's driving me mad.\n",
      "Predicted Emotion: anger\n",
      "\n",
      "Comment: I am unsure and nervous about the upcoming exam.\n",
      "Predicted Emotion: fear\n",
      "\n"
     ]
    }
   ],
   "source": [
    "# Define new unseen comments\n",
    "new_comments = [\n",
    "    \"I feel so happy and content with my recent achievements!\",\n",
    "    \"I can't believe how terrible this situation is, it's driving me mad.\",\n",
    "    \"I am unsure and nervous about the upcoming exam.\"\n",
    "]\n",
    "\n",
    "# Preprocess the new comments\n",
    "new_comments_processed = [preprocess_text(comment) for comment in new_comments]\n",
    "\n",
    "# Transform the new comments using the same vectorizer\n",
    "new_comments_vectorized = vectorizer.transform(new_comments_processed)\n",
    "\n",
    "# Predict the emotions using the trained model\n",
    "predictions = svc_model.predict(new_comments_vectorized)\n",
    "\n",
    "# Print the predictions\n",
    "for comment, prediction in zip(new_comments, predictions):\n",
    "    print(f\"Comment: {comment}\")\n",
    "    print(f\"Predicted Emotion: {prediction}\")\n",
    "    print()\n"
   ]
  },
  {
   "cell_type": "code",
   "execution_count": null,
   "id": "8fe0dc19-c3d3-4b22-af16-ac6d2789dede",
   "metadata": {},
   "outputs": [],
   "source": []
  }
 ],
 "metadata": {
  "kernelspec": {
   "display_name": "Python 3 (ipykernel)",
   "language": "python",
   "name": "python3"
  },
  "language_info": {
   "codemirror_mode": {
    "name": "ipython",
    "version": 3
   },
   "file_extension": ".py",
   "mimetype": "text/x-python",
   "name": "python",
   "nbconvert_exporter": "python",
   "pygments_lexer": "ipython3",
   "version": "3.12.1"
  }
 },
 "nbformat": 4,
 "nbformat_minor": 5
}
