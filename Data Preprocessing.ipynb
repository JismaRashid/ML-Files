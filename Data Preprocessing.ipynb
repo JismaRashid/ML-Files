{
 "cells": [
  {
   "cell_type": "code",
   "execution_count": 1,
   "id": "beac65c0-4b15-4600-8a73-3eb68f16f778",
   "metadata": {},
   "outputs": [
    {
     "name": "stdout",
     "output_type": "stream",
     "text": [
      "Requirement already satisfied: scikit-learn in c:\\users\\jisma\\appdata\\local\\programs\\python\\python312\\lib\\site-packages (1.4.0)\n",
      "Requirement already satisfied: numpy<2.0,>=1.19.5 in c:\\users\\jisma\\appdata\\local\\programs\\python\\python312\\lib\\site-packages (from scikit-learn) (1.26.3)\n",
      "Requirement already satisfied: scipy>=1.6.0 in c:\\users\\jisma\\appdata\\local\\programs\\python\\python312\\lib\\site-packages (from scikit-learn) (1.11.4)\n",
      "Requirement already satisfied: joblib>=1.2.0 in c:\\users\\jisma\\appdata\\local\\programs\\python\\python312\\lib\\site-packages (from scikit-learn) (1.3.2)\n",
      "Requirement already satisfied: threadpoolctl>=2.0.0 in c:\\users\\jisma\\appdata\\local\\programs\\python\\python312\\lib\\site-packages (from scikit-learn) (3.2.0)\n",
      "Note: you may need to restart the kernel to use updated packages.\n"
     ]
    },
    {
     "name": "stderr",
     "output_type": "stream",
     "text": [
      "\n",
      "[notice] A new release of pip is available: 23.2.1 -> 24.0\n",
      "[notice] To update, run: python.exe -m pip install --upgrade pip\n"
     ]
    }
   ],
   "source": [
    "pip install scikit-learn"
   ]
  },
  {
   "cell_type": "code",
   "execution_count": 3,
   "id": "cf8971ea",
   "metadata": {
    "id": "cf8971ea",
    "outputId": "3a8e0bda-af32-4363-c427-4dc1a49a3ecc"
   },
   "outputs": [
    {
     "name": "stdout",
     "output_type": "stream",
     "text": [
      "     name    brand  color\n",
      "0   Swift   Suzuki    Red\n",
      "1   Verna  Hyundai  White\n",
      "2    Polo       VW    Red\n",
      "3   Creta  Hyundai  Black\n",
      "4  Innova   Toyota  White\n"
     ]
    }
   ],
   "source": [
    "import pandas as pd\n",
    "\n",
    "df = pd.DataFrame({\n",
    "    \"name\": [\"Swift\", \"Verna\", \"Polo\", \"Creta\", \"Innova\"],\n",
    "    \"brand\": [\"Suzuki\", \"Hyundai\", \"VW\", \"Hyundai\", \"Toyota\"],\n",
    "    \"color\": [\"Red\", \"White\", \"Red\", \"Black\", \"White\"]\n",
    "    })\n",
    "\n",
    "print(df)\n"
   ]
  },
  {
   "cell_type": "markdown",
   "id": "e8d4c869",
   "metadata": {
    "id": "e8d4c869"
   },
   "source": [
    "## Encoding Categorical Variables"
   ]
  },
  {
   "cell_type": "code",
   "execution_count": 7,
   "id": "3b370aea",
   "metadata": {
    "id": "3b370aea",
    "outputId": "7f5e3970-c128-48cd-e5a8-732b120dc086"
   },
   "outputs": [
    {
     "name": "stdout",
     "output_type": "stream",
     "text": [
      "     name  brand_Hyundai  brand_Suzuki  brand_Toyota  brand_VW  color_Black  \\\n",
      "0   Swift          False          True         False     False        False   \n",
      "1   Verna           True         False         False     False        False   \n",
      "2    Polo          False         False         False      True        False   \n",
      "3   Creta           True         False         False     False         True   \n",
      "4  Innova          False         False          True     False        False   \n",
      "\n",
      "   color_Red  color_White  \n",
      "0       True        False  \n",
      "1      False         True  \n",
      "2       True        False  \n",
      "3      False        False  \n",
      "4      False         True  \n"
     ]
    }
   ],
   "source": [
    "import numpy as np\n",
    "\n",
    "#Uses the get_dummies() function from pandas to perform one-hot encoding on categorical variables.\n",
    "df_one_hot_encoded = pd.get_dummies(data = df, columns = [\"brand\", \"color\"])\n",
    "\n",
    "print(df_one_hot_encoded )"
   ]
  },
  {
   "cell_type": "markdown",
   "id": "5153b839-8b8a-4dd9-ae9e-a0aa2a6591fb",
   "metadata": {},
   "source": [
    "#### Each unique value in the \"brand\" and \"color\" columns has been converted into a new binary column.\n",
    "#### False represents zero and True represents 1."
   ]
  },
  {
   "cell_type": "code",
   "execution_count": 11,
   "id": "e5c71551",
   "metadata": {
    "id": "e5c71551",
    "outputId": "f2da2e11-3ed0-426a-c4c5-5f3d70303975"
   },
   "outputs": [
    {
     "name": "stdout",
     "output_type": "stream",
     "text": [
      "['is_Suzuki', 'is_Hyundai', 'is_VW', 'is_Toyota', 'is_Red', 'is_White', 'is_Black']\n",
      "[[0. 1. 0. 0. 0. 1. 0.]\n",
      " [1. 0. 0. 0. 0. 0. 1.]\n",
      " [0. 0. 0. 1. 0. 1. 0.]\n",
      " [1. 0. 0. 0. 1. 0. 0.]\n",
      " [0. 0. 1. 0. 0. 0. 1.]]\n",
      "   is_Suzuki  is_Hyundai  is_VW  is_Toyota  is_Red  is_White  is_Black\n",
      "0        0.0         1.0    0.0        0.0     0.0       1.0       0.0\n",
      "1        1.0         0.0    0.0        0.0     0.0       0.0       1.0\n",
      "2        0.0         0.0    0.0        1.0     0.0       1.0       0.0\n",
      "3        1.0         0.0    0.0        0.0     1.0       0.0       0.0\n",
      "4        0.0         0.0    1.0        0.0     0.0       0.0       1.0\n",
      "     name    brand  color  is_Suzuki  is_Hyundai  is_VW  is_Toyota  is_Red  \\\n",
      "0   Swift   Suzuki    Red        0.0         1.0    0.0        0.0     0.0   \n",
      "1   Verna  Hyundai  White        1.0         0.0    0.0        0.0     0.0   \n",
      "2    Polo       VW    Red        0.0         0.0    0.0        1.0     0.0   \n",
      "3   Creta  Hyundai  Black        1.0         0.0    0.0        0.0     1.0   \n",
      "4  Innova   Toyota  White        0.0         0.0    1.0        0.0     0.0   \n",
      "\n",
      "   is_White  is_Black  \n",
      "0       1.0       0.0  \n",
      "1       0.0       1.0  \n",
      "2       1.0       0.0  \n",
      "3       0.0       0.0  \n",
      "4       0.0       1.0  \n"
     ]
    }
   ],
   "source": [
    "import pandas as pd\n",
    "from sklearn.preprocessing import OneHotEncoder\n",
    "\n",
    "#Specifies the columns to be one-hot encoded.\n",
    "cols_to_encode = [\"brand\", \"color\"]  \n",
    "#Initializes an empty list to store the new column names generated after encoding.\n",
    "new_encoded_cols_names = []\n",
    "\n",
    "# Create a list of new columns names\n",
    "# For each unique category in the column, it generates a new column name following the format \"is_{category}\".\n",
    "for col in cols_to_encode:\n",
    "    new_encoded_cols_names += [f\"is_{category}\" for category in df[col].unique().tolist()]\n",
    "\n",
    "print(new_encoded_cols_names)\n",
    "#['is_Suzuki', 'is_Hyundai', 'is_VW', 'is_Toyota', 'is_Red', 'is_White', 'is_Black']\n",
    "\n",
    "# Inititalize and fit One Hot Encoder class from sklearn\n",
    "# sparse_output=False: This parameter specifies whether the output of the encoding should be sparse or dense. \n",
    "# Sparse output means that only the non-zero elements are stored, which can save memory when dealing with large datasets. \n",
    "# setting sparse_output=False indicates that the output should be dense, meaning that all elements are explicitly stored\n",
    "# one_hot_encoder is the object of OneHotEncoder class\n",
    "one_hot_encoder = OneHotEncoder(sparse_output = False, handle_unknown = 'ignore')\n",
    "\n",
    "# fits the OneHotEncoder to the specified columns (cols_to_encode) in the DataFrame df and transforms these columns into a one-hot encoded representation.\n",
    "encoded_cols = one_hot_encoder.fit_transform(df[cols_to_encode])\n",
    "print(encoded_cols)\n",
    "\n",
    "# As the output of the above transformer would be a sparse matrix, we need to convert it back to Pandas dataframe\n",
    "df_encoded = pd.DataFrame(encoded_cols, columns = new_encoded_cols_names)\n",
    "print(df_encoded)\n",
    "df_one_hot_encoded = df.join(df_encoded)\n",
    "\n",
    "print(df_one_hot_encoded)"
   ]
  },
  {
   "cell_type": "code",
   "execution_count": 13,
   "id": "ad029d10",
   "metadata": {
    "id": "ad029d10"
   },
   "outputs": [
    {
     "name": "stdout",
     "output_type": "stream",
     "text": [
      "   name  brand  color\n",
      "0     3      1      1\n",
      "1     4      0      2\n",
      "2     2      3      1\n",
      "3     0      0      0\n",
      "4     1      2      2\n"
     ]
    }
   ],
   "source": [
    "from sklearn.preprocessing import LabelEncoder\n",
    "\n",
    "#label_encoder is the object of LabelEncoder class\n",
    "label_encoder = LabelEncoder()\n",
    "for i in df:\n",
    "    df[i] = label_encoder.fit_transform(df[i])\n",
    "\n",
    "print(df)"
   ]
  },
  {
   "cell_type": "code",
   "execution_count": null,
   "id": "f67b5a35",
   "metadata": {
    "id": "f67b5a35",
    "outputId": "97dcb1e0-1c08-496f-ee34-87c54cd070dc"
   },
   "outputs": [
    {
     "data": {
      "text/plain": [
       "brand\n",
       "0    2\n",
       "1    1\n",
       "3    1\n",
       "2    1\n",
       "Name: count, dtype: int64"
      ]
     },
     "execution_count": 13,
     "metadata": {},
     "output_type": "execute_result"
    }
   ],
   "source": [
    "df.brand.value_counts()"
   ]
  },
  {
   "cell_type": "code",
   "execution_count": 14,
   "id": "eca81a59",
   "metadata": {
    "id": "eca81a59",
    "outputId": "33727ebc-fcc9-4320-9c5f-2316236e9dd2"
   },
   "outputs": [
    {
     "data": {
      "text/html": [
       "<div>\n",
       "<style scoped>\n",
       "    .dataframe tbody tr th:only-of-type {\n",
       "        vertical-align: middle;\n",
       "    }\n",
       "\n",
       "    .dataframe tbody tr th {\n",
       "        vertical-align: top;\n",
       "    }\n",
       "\n",
       "    .dataframe thead th {\n",
       "        text-align: right;\n",
       "    }\n",
       "</style>\n",
       "<table border=\"1\" class=\"dataframe\">\n",
       "  <thead>\n",
       "    <tr style=\"text-align: right;\">\n",
       "      <th></th>\n",
       "      <th>name</th>\n",
       "      <th>brand</th>\n",
       "      <th>color</th>\n",
       "    </tr>\n",
       "  </thead>\n",
       "  <tbody>\n",
       "    <tr>\n",
       "      <th>0</th>\n",
       "      <td>3</td>\n",
       "      <td>1</td>\n",
       "      <td>1</td>\n",
       "    </tr>\n",
       "    <tr>\n",
       "      <th>1</th>\n",
       "      <td>4</td>\n",
       "      <td>0</td>\n",
       "      <td>2</td>\n",
       "    </tr>\n",
       "    <tr>\n",
       "      <th>2</th>\n",
       "      <td>2</td>\n",
       "      <td>3</td>\n",
       "      <td>1</td>\n",
       "    </tr>\n",
       "    <tr>\n",
       "      <th>3</th>\n",
       "      <td>0</td>\n",
       "      <td>0</td>\n",
       "      <td>0</td>\n",
       "    </tr>\n",
       "    <tr>\n",
       "      <th>4</th>\n",
       "      <td>1</td>\n",
       "      <td>2</td>\n",
       "      <td>2</td>\n",
       "    </tr>\n",
       "  </tbody>\n",
       "</table>\n",
       "</div>"
      ],
      "text/plain": [
       "   name  brand  color\n",
       "0     3      1      1\n",
       "1     4      0      2\n",
       "2     2      3      1\n",
       "3     0      0      0\n",
       "4     1      2      2"
      ]
     },
     "execution_count": 14,
     "metadata": {},
     "output_type": "execute_result"
    }
   ],
   "source": [
    "df"
   ]
  },
  {
   "cell_type": "markdown",
   "id": "a28ccf92",
   "metadata": {
    "id": "a28ccf92"
   },
   "source": [
    "## Feature Scaling"
   ]
  },
  {
   "cell_type": "code",
   "execution_count": 21,
   "id": "1b26a4d9",
   "metadata": {
    "id": "1b26a4d9",
    "outputId": "0fa0babb-47f5-4505-bb62-069df621d741"
   },
   "outputs": [
    {
     "name": "stdout",
     "output_type": "stream",
     "text": [
      "[[-0.63170839 -0.60858062]\n",
      " [ 0.58311544  0.        ]\n",
      " [-1.48208507 -1.52145155]\n",
      " [ 1.43349212  0.91287093]\n",
      " [ 0.09718591  1.21716124]]\n"
     ]
    }
   ],
   "source": [
    "import pandas as pd\n",
    "from sklearn.preprocessing import StandardScaler\n",
    "\n",
    "# Create a DataFrame\n",
    "data = pd.DataFrame({\n",
    "    'age': [35, 45, 28, 52, 41],\n",
    "    'income': [50000, 60000, 35000, 75000, 80000]\n",
    "})\n",
    "\n",
    "# Create a scaler object\n",
    "scaler = StandardScaler()\n",
    "\n",
    "# Fit the scaler on the data\n",
    "scaler.fit(data)\n",
    "\n",
    "# Transform the data\n",
    "scaled_data = scaler.transform(data)\n",
    "\n",
    "# Print the scaled data\n",
    "print(scaled_data)\n"
   ]
  },
  {
   "cell_type": "code",
   "execution_count": 22,
   "id": "41f6eec7",
   "metadata": {
    "id": "41f6eec7",
    "outputId": "bd3f9cf3-8702-4899-8b81-a28dd355f45e"
   },
   "outputs": [
    {
     "name": "stdout",
     "output_type": "stream",
     "text": [
      "[[0.29166667 0.33333333]\n",
      " [0.70833333 0.55555556]\n",
      " [0.         0.        ]\n",
      " [1.         0.88888889]\n",
      " [0.54166667 1.        ]]\n"
     ]
    }
   ],
   "source": [
    "import pandas as pd\n",
    "from sklearn.preprocessing import MinMaxScaler\n",
    "\n",
    "# Create a DataFrame\n",
    "data = pd.DataFrame({\n",
    "    'age': [35, 45, 28, 52, 41],\n",
    "    'income': [50000, 60000, 35000, 75000, 80000]\n",
    "})\n",
    "\n",
    "# Create a scaler object\n",
    "scaler = MinMaxScaler()\n",
    "\n",
    "# Fit the scaler on the data\n",
    "scaler.fit(data)\n",
    "\n",
    "# Transform the data\n",
    "scaled_data = scaler.transform(data)\n",
    "\n",
    "# Print the scaled data\n",
    "print(scaled_data)\n"
   ]
  },
  {
   "cell_type": "code",
   "execution_count": null,
   "id": "7f20cf82-7631-4963-a5c5-f0f405f43e91",
   "metadata": {},
   "outputs": [],
   "source": []
  }
 ],
 "metadata": {
  "colab": {
   "provenance": []
  },
  "kernelspec": {
   "display_name": "Python 3 (ipykernel)",
   "language": "python",
   "name": "python3"
  },
  "language_info": {
   "codemirror_mode": {
    "name": "ipython",
    "version": 3
   },
   "file_extension": ".py",
   "mimetype": "text/x-python",
   "name": "python",
   "nbconvert_exporter": "python",
   "pygments_lexer": "ipython3",
   "version": "3.12.1"
  }
 },
 "nbformat": 4,
 "nbformat_minor": 5
}
