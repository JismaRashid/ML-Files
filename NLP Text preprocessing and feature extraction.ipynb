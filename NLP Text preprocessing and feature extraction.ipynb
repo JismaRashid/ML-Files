{
 "cells": [
  {
   "cell_type": "code",
   "execution_count": 1,
   "id": "8dcd6326-33d7-445f-a4ab-74249d0eeb81",
   "metadata": {},
   "outputs": [
    {
     "name": "stdout",
     "output_type": "stream",
     "text": [
      "Requirement already satisfied: nltk in c:\\users\\jisma\\appdata\\local\\programs\\python\\python312\\lib\\site-packages (3.8.1)\n",
      "Requirement already satisfied: click in c:\\users\\jisma\\appdata\\local\\programs\\python\\python312\\lib\\site-packages (from nltk) (8.1.7)\n",
      "Requirement already satisfied: joblib in c:\\users\\jisma\\appdata\\local\\programs\\python\\python312\\lib\\site-packages (from nltk) (1.3.2)\n",
      "Requirement already satisfied: regex>=2021.8.3 in c:\\users\\jisma\\appdata\\local\\programs\\python\\python312\\lib\\site-packages (from nltk) (2023.12.25)\n",
      "Requirement already satisfied: tqdm in c:\\users\\jisma\\appdata\\local\\programs\\python\\python312\\lib\\site-packages (from nltk) (4.66.2)\n",
      "Requirement already satisfied: colorama in c:\\users\\jisma\\appdata\\local\\programs\\python\\python312\\lib\\site-packages (from click->nltk) (0.4.6)\n"
     ]
    },
    {
     "name": "stderr",
     "output_type": "stream",
     "text": [
      "\n",
      "[notice] A new release of pip is available: 23.2.1 -> 24.0\n",
      "[notice] To update, run: python.exe -m pip install --upgrade pip\n"
     ]
    }
   ],
   "source": [
    "#Install nltk\n",
    "!pip install nltk"
   ]
  },
  {
   "cell_type": "code",
   "execution_count": 2,
   "id": "a81bda54-8a06-4f95-a46a-c73d747fe71c",
   "metadata": {},
   "outputs": [],
   "source": [
    "import nltk"
   ]
  },
  {
   "cell_type": "code",
   "execution_count": 3,
   "id": "d69b6b10-4744-48d2-897f-173ddf119c7d",
   "metadata": {},
   "outputs": [
    {
     "name": "stdout",
     "output_type": "stream",
     "text": [
      "showing info https://raw.githubusercontent.com/nltk/nltk_data/gh-pages/index.xml\n"
     ]
    },
    {
     "data": {
      "text/plain": [
       "True"
      ]
     },
     "execution_count": 3,
     "metadata": {},
     "output_type": "execute_result"
    }
   ],
   "source": [
    "nltk.download()"
   ]
  },
  {
   "cell_type": "markdown",
   "id": "c1dc695d-f6bc-4c3f-a139-4c7e7a50ef19",
   "metadata": {},
   "source": [
    "# Text Cleaning"
   ]
  },
  {
   "cell_type": "code",
   "execution_count": 1,
   "id": "11e9d6c2-fcc0-4235-a1d3-008ce81222c9",
   "metadata": {},
   "outputs": [],
   "source": [
    "#Creating bunch of sentences\n",
    "raw_docs = [\"I am writing some very basic english sentences\",\n",
    "\"I'm just writing it for the demo PURPOSE to make audience understand the basics .\",\n",
    "\"The point is to _learn HOW it works_ on #simple # data.\"]"
   ]
  },
  {
   "cell_type": "markdown",
   "id": "f2d3463b-a9f2-47e8-a504-852e6eae2cf0",
   "metadata": {},
   "source": [
    "## Step 1 - convert to lower case"
   ]
  },
  {
   "cell_type": "code",
   "execution_count": 2,
   "id": "ef8b56dd-3824-4cbf-bea1-cca8569e183b",
   "metadata": {},
   "outputs": [
    {
     "name": "stdout",
     "output_type": "stream",
     "text": [
      "['i am writing some very basic english sentences', \"i'm just writing it for the demo purpose to make audience understand the basics .\", 'the point is to _learn how it works_ on #simple # data.']\n"
     ]
    }
   ],
   "source": [
    "raw_docs = [doc.lower() for doc in raw_docs]\n",
    "print(raw_docs)"
   ]
  },
  {
   "cell_type": "markdown",
   "id": "3012ade9-31d0-4a7e-9a87-a84192311946",
   "metadata": {},
   "source": [
    "## Step 2 - Tokenization"
   ]
  },
  {
   "cell_type": "code",
   "execution_count": 3,
   "id": "1f596e98-ac5b-4429-be2f-03e5e088848a",
   "metadata": {},
   "outputs": [
    {
     "name": "stdout",
     "output_type": "stream",
     "text": [
      "word tokenize\n",
      "[['i', 'am', 'writing', 'some', 'very', 'basic', 'english', 'sentences'], ['i', \"'m\", 'just', 'writing', 'it', 'for', 'the', 'demo', 'purpose', 'to', 'make', 'audience', 'understand', 'the', 'basics', '.'], ['the', 'point', 'is', 'to', '_learn', 'how', 'it', 'works_', 'on', '#', 'simple', '#', 'data', '.']]\n",
      "\n",
      "Sentence tokenization\n",
      "[['i am writing some very basic english sentences'], [\"i'm just writing it for the demo purpose to make audience understand the basics .\"], ['the point is to _learn how it works_ on #simple # data.']]\n"
     ]
    }
   ],
   "source": [
    "print(\"word tokenize\")\n",
    "\n",
    "from nltk.tokenize import word_tokenize\n",
    "tokenized_docs = [word_tokenize(doc) for doc in raw_docs]\n",
    "print(tokenized_docs)\n",
    "\n",
    "print(\"\\nSentence tokenization\")\n",
    "\n",
    "from nltk.tokenize import sent_tokenize\n",
    "sent_token = [sent_tokenize(doc) for doc in raw_docs]\n",
    "print(sent_token)"
   ]
  },
  {
   "cell_type": "markdown",
   "id": "2bb58e63-4942-4658-9c17-e74f8c6f89d5",
   "metadata": {},
   "source": [
    "## Step 3 - Punctuation Removal"
   ]
  },
  {
   "cell_type": "code",
   "execution_count": 4,
   "id": "7cfb59f2-2f9a-49dd-9b1a-a55f2cd67bee",
   "metadata": {},
   "outputs": [
    {
     "name": "stdout",
     "output_type": "stream",
     "text": [
      "[['i', 'am', 'writing', 'some', 'very', 'basic', 'english', 'sentences'], ['i', 'm', 'just', 'writing', 'it', 'for', 'the', 'demo', 'purpose', 'to', 'make', 'audience', 'understand', 'the', 'basics'], ['the', 'point', 'is', 'to', 'learn', 'how', 'it', 'works', 'on', 'simple', 'data']]\n"
     ]
    }
   ],
   "source": [
    "import string\n",
    "import re\n",
    "\n",
    "regex = re.compile('[%s]' % re.escape(string.punctuation))\n",
    "#This line creates a regular expression pattern to match any character that is included in the string.punctuation constant. \n",
    "#re.escape() is used to escape any special characters within the punctuation string .\n",
    "\n",
    "tokenized_docs_no_punctuation = []\n",
    "\n",
    "for review in tokenized_docs:\n",
    "    new_review = []\n",
    "    for token in review:\n",
    "        new_token = regex.sub(u'', token) # substitute any punctuation characters in the current token (token) with an empty string (''). This effectively removes all punctuation from the token.\n",
    "        if not new_token == u'': # checks if the token after removing punctuation is not an empty string.\n",
    "            new_review.append(new_token)\n",
    "    \n",
    "    tokenized_docs_no_punctuation.append(new_review)\n",
    "    \n",
    "print(tokenized_docs_no_punctuation)"
   ]
  },
  {
   "cell_type": "markdown",
   "id": "71bedbc1-2569-4c22-b5d3-fd7fdb12b49a",
   "metadata": {},
   "source": [
    "## Step 4 - Removing Stopwords"
   ]
  },
  {
   "cell_type": "code",
   "execution_count": 5,
   "id": "935f65e2-6471-4f4d-9a84-a3eebc823e30",
   "metadata": {},
   "outputs": [
    {
     "name": "stdout",
     "output_type": "stream",
     "text": [
      "[['writing', 'basic', 'english', 'sentences'], ['writing', 'demo', 'purpose', 'make', 'audience', 'understand', 'basics'], ['point', 'learn', 'works', 'simple', 'data']]\n"
     ]
    }
   ],
   "source": [
    "# Cleaning text of stopwords\n",
    "from nltk.corpus import stopwords\n",
    "\n",
    "tokenized_docs_no_stopwords = []\n",
    "\n",
    "for doc in tokenized_docs_no_punctuation:\n",
    "    new_term_vector = []\n",
    "    for word in doc:\n",
    "        if not word in stopwords.words('english'):\n",
    "            new_term_vector.append(word)\n",
    "    \n",
    "    tokenized_docs_no_stopwords.append(new_term_vector)\n",
    "\n",
    "print(tokenized_docs_no_stopwords)"
   ]
  },
  {
   "cell_type": "code",
   "execution_count": 9,
   "id": "b57d3e81-317d-4cf2-862b-36aceab7fd32",
   "metadata": {},
   "outputs": [
    {
     "data": {
      "text/plain": [
       "['i',\n",
       " 'me',\n",
       " 'my',\n",
       " 'myself',\n",
       " 'we',\n",
       " 'our',\n",
       " 'ours',\n",
       " 'ourselves',\n",
       " 'you',\n",
       " \"you're\",\n",
       " \"you've\",\n",
       " \"you'll\",\n",
       " \"you'd\",\n",
       " 'your',\n",
       " 'yours',\n",
       " 'yourself',\n",
       " 'yourselves',\n",
       " 'he',\n",
       " 'him',\n",
       " 'his',\n",
       " 'himself',\n",
       " 'she',\n",
       " \"she's\",\n",
       " 'her',\n",
       " 'hers',\n",
       " 'herself',\n",
       " 'it',\n",
       " \"it's\",\n",
       " 'its',\n",
       " 'itself',\n",
       " 'they',\n",
       " 'them',\n",
       " 'their',\n",
       " 'theirs',\n",
       " 'themselves',\n",
       " 'what',\n",
       " 'which',\n",
       " 'who',\n",
       " 'whom',\n",
       " 'this',\n",
       " 'that',\n",
       " \"that'll\",\n",
       " 'these',\n",
       " 'those',\n",
       " 'am',\n",
       " 'is',\n",
       " 'are',\n",
       " 'was',\n",
       " 'were',\n",
       " 'be',\n",
       " 'been',\n",
       " 'being',\n",
       " 'have',\n",
       " 'has',\n",
       " 'had',\n",
       " 'having',\n",
       " 'do',\n",
       " 'does',\n",
       " 'did',\n",
       " 'doing',\n",
       " 'a',\n",
       " 'an',\n",
       " 'the',\n",
       " 'and',\n",
       " 'but',\n",
       " 'if',\n",
       " 'or',\n",
       " 'because',\n",
       " 'as',\n",
       " 'until',\n",
       " 'while',\n",
       " 'of',\n",
       " 'at',\n",
       " 'by',\n",
       " 'for',\n",
       " 'with',\n",
       " 'about',\n",
       " 'against',\n",
       " 'between',\n",
       " 'into',\n",
       " 'through',\n",
       " 'during',\n",
       " 'before',\n",
       " 'after',\n",
       " 'above',\n",
       " 'below',\n",
       " 'to',\n",
       " 'from',\n",
       " 'up',\n",
       " 'down',\n",
       " 'in',\n",
       " 'out',\n",
       " 'on',\n",
       " 'off',\n",
       " 'over',\n",
       " 'under',\n",
       " 'again',\n",
       " 'further',\n",
       " 'then',\n",
       " 'once',\n",
       " 'here',\n",
       " 'there',\n",
       " 'when',\n",
       " 'where',\n",
       " 'why',\n",
       " 'how',\n",
       " 'all',\n",
       " 'any',\n",
       " 'both',\n",
       " 'each',\n",
       " 'few',\n",
       " 'more',\n",
       " 'most',\n",
       " 'other',\n",
       " 'some',\n",
       " 'such',\n",
       " 'no',\n",
       " 'nor',\n",
       " 'not',\n",
       " 'only',\n",
       " 'own',\n",
       " 'same',\n",
       " 'so',\n",
       " 'than',\n",
       " 'too',\n",
       " 'very',\n",
       " 's',\n",
       " 't',\n",
       " 'can',\n",
       " 'will',\n",
       " 'just',\n",
       " 'don',\n",
       " \"don't\",\n",
       " 'should',\n",
       " \"should've\",\n",
       " 'now',\n",
       " 'd',\n",
       " 'll',\n",
       " 'm',\n",
       " 'o',\n",
       " 're',\n",
       " 've',\n",
       " 'y',\n",
       " 'ain',\n",
       " 'aren',\n",
       " \"aren't\",\n",
       " 'couldn',\n",
       " \"couldn't\",\n",
       " 'didn',\n",
       " \"didn't\",\n",
       " 'doesn',\n",
       " \"doesn't\",\n",
       " 'hadn',\n",
       " \"hadn't\",\n",
       " 'hasn',\n",
       " \"hasn't\",\n",
       " 'haven',\n",
       " \"haven't\",\n",
       " 'isn',\n",
       " \"isn't\",\n",
       " 'ma',\n",
       " 'mightn',\n",
       " \"mightn't\",\n",
       " 'mustn',\n",
       " \"mustn't\",\n",
       " 'needn',\n",
       " \"needn't\",\n",
       " 'shan',\n",
       " \"shan't\",\n",
       " 'shouldn',\n",
       " \"shouldn't\",\n",
       " 'wasn',\n",
       " \"wasn't\",\n",
       " 'weren',\n",
       " \"weren't\",\n",
       " 'won',\n",
       " \"won't\",\n",
       " 'wouldn',\n",
       " \"wouldn't\"]"
      ]
     },
     "execution_count": 9,
     "metadata": {},
     "output_type": "execute_result"
    }
   ],
   "source": [
    "stopwords.words('english')"
   ]
  },
  {
   "cell_type": "markdown",
   "id": "081947c3-1d24-4209-a144-b0b5e052aeba",
   "metadata": {},
   "source": [
    "## Step 5- Stemming and Lemmatization"
   ]
  },
  {
   "cell_type": "code",
   "execution_count": 8,
   "id": "ae657adc-b4ff-42a6-8af7-7628284afd17",
   "metadata": {},
   "outputs": [
    {
     "name": "stdout",
     "output_type": "stream",
     "text": [
      "[['writing', 'basic', 'english', 'sentence'], ['writing', 'demo', 'purpose', 'make', 'audience', 'understand', 'basic'], ['point', 'learn', 'work', 'simple', 'data']]\n"
     ]
    }
   ],
   "source": [
    "# Stemming and Lemmatization\n",
    "from nltk.stem.porter import PorterStemmer # imports the PorterStemmer class from NLTK, which is used for stemming.\n",
    "from nltk.stem.wordnet import WordNetLemmatizer #  imports the WordNetLemmatizer class from NLTK, which is used for lemmatization.\n",
    "\n",
    "porter = PorterStemmer() #Creates an instance of the PorterStemmer class\n",
    "wordnet = WordNetLemmatizer() #Creates an instance of the WordNetLemmatizer class\n",
    "\n",
    "preprocessed_docs = []\n",
    "\n",
    "for doc in tokenized_docs_no_stopwords:\n",
    "    final_doc = []\n",
    "    for word in doc:\n",
    "        #final_doc.append(porter.stem(word)) #stems the current word using the Porter Stemmer and appends the stemmed form to the final_doc list.\n",
    "        final_doc.append(wordnet.lemmatize(word)) # lemmatizes the current word using the WordNet Lemmatizer and appends the lemmatized form to the final_doc list.\n",
    "    \n",
    "    preprocessed_docs.append(final_doc) #After processing all words in a document, the resulting list of stemmed or lemmatized words (final_doc) is appended to the preprocessed_docs list.\n",
    "\n",
    "print(preprocessed_docs)"
   ]
  },
  {
   "cell_type": "markdown",
   "id": "c7b57674-923b-45b4-8952-ecd1e5cea601",
   "metadata": {},
   "source": [
    "# Feature Extraction"
   ]
  },
  {
   "cell_type": "code",
   "execution_count": 22,
   "id": "358402db-d57f-42ff-a74b-a0132cee5bf5",
   "metadata": {},
   "outputs": [
    {
     "name": "stdout",
     "output_type": "stream",
     "text": [
      "['writing basic english sentence', 'writing demo purpose make audience understand basic', 'point learn work simple data']\n",
      "\n",
      "Vocabulary for Bag of Words (BoW):\n",
      "['audience' 'basic' 'data' 'demo' 'english' 'learn' 'make' 'point'\n",
      " 'purpose' 'sentence' 'simple' 'understand' 'work' 'writing']\n",
      "\n",
      "Vocabulary for TF-IDF:\n",
      "['audience' 'basic' 'data' 'demo' 'english' 'learn' 'make' 'point'\n",
      " 'purpose' 'sentence' 'simple' 'understand' 'work' 'writing']\n",
      "\n",
      "Bag of Words (BoW) matrix:\n",
      "[[0 1 0 0 1 0 0 0 0 1 0 0 0 1]\n",
      " [1 1 0 1 0 0 1 0 1 0 0 1 0 1]\n",
      " [0 0 1 0 0 1 0 1 0 0 1 0 1 0]]\n",
      "\n",
      "TF-IDF matrix:\n",
      "[[0.         0.42804604 0.         0.         0.5628291  0.\n",
      "  0.         0.         0.         0.5628291  0.         0.\n",
      "  0.         0.42804604]\n",
      " [0.40301621 0.30650422 0.         0.40301621 0.         0.\n",
      "  0.40301621 0.         0.40301621 0.         0.         0.40301621\n",
      "  0.         0.30650422]\n",
      " [0.         0.         0.4472136  0.         0.         0.4472136\n",
      "  0.         0.4472136  0.         0.         0.4472136  0.\n",
      "  0.4472136  0.        ]]\n"
     ]
    }
   ],
   "source": [
    "from sklearn.feature_extraction.text import CountVectorizer, TfidfVectorizer\n",
    "\n",
    "# Convert preprocessed documents to strings\n",
    "doc_strings = [' '.join(doc) for doc in preprocessed_docs]\n",
    "print(doc_strings)\n",
    "\n",
    "# Bag of Words (BoW) method\n",
    "bow_vectorizer = CountVectorizer()\n",
    "bow_matrix = bow_vectorizer.fit_transform(doc_strings)\n",
    "\n",
    "# TF-IDF method\n",
    "tfidf_vectorizer = TfidfVectorizer()\n",
    "tfidf_matrix = tfidf_vectorizer.fit_transform(doc_strings)\n",
    "\n",
    "# Vocabulary for reference\n",
    "print(\"\\nVocabulary for Bag of Words (BoW):\")\n",
    "print(bow_vectorizer.get_feature_names_out())\n",
    "#print(bow_vectorizer.vocabulary_) #This dictionary maps each word to its index in the feature matrix\n",
    "print(\"\\nVocabulary for TF-IDF:\")\n",
    "print(tfidf_vectorizer.get_feature_names_out())\n",
    "\n",
    "# Print BoW and TF-IDF matrices\n",
    "print(\"\\nBag of Words (BoW) matrix:\")\n",
    "print(bow_matrix.toarray())\n",
    "print(\"\\nTF-IDF matrix:\")\n",
    "print(tfidf_matrix.toarray())\n"
   ]
  },
  {
   "cell_type": "code",
   "execution_count": null,
   "id": "88d54ed3-86cc-438a-8c6b-e7b2678f3cba",
   "metadata": {},
   "outputs": [],
   "source": []
  }
 ],
 "metadata": {
  "kernelspec": {
   "display_name": "Python 3 (ipykernel)",
   "language": "python",
   "name": "python3"
  },
  "language_info": {
   "codemirror_mode": {
    "name": "ipython",
    "version": 3
   },
   "file_extension": ".py",
   "mimetype": "text/x-python",
   "name": "python",
   "nbconvert_exporter": "python",
   "pygments_lexer": "ipython3",
   "version": "3.12.1"
  }
 },
 "nbformat": 4,
 "nbformat_minor": 5
}
