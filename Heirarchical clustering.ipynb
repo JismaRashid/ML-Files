{
 "cells": [
  {
   "cell_type": "markdown",
   "id": "ac9fbf46-08c2-43f5-95da-0ed54ebe59f6",
   "metadata": {},
   "source": [
    "# Hierarchical Clustering\n",
    "Hierarchical clustering is an unsupervised machine learning algorithm, which is used to group the unlabeled datasets into a clusters.In this algorithm, we develop the hierarchy of clusters in the form of a tree, and this tree-shaped structure is known as the dendrogram."
   ]
  },
  {
   "cell_type": "markdown",
   "id": "050e0e8c-296b-4f4f-9105-8db3eb13e4fd",
   "metadata": {},
   "source": [
    "The hierarchical clustering technique has two approaches:\n",
    "### Agglomerative method\n",
    "Agglomerative is a bottom-up approach, in which the algorithm starts with taking all data points as single clusters and merging them until one cluster is left.\n",
    "### Divisive method\n",
    "Divisive algorithm is the reverse of the agglomerative algorithm as it is a top-down approach."
   ]
  },
  {
   "cell_type": "markdown",
   "id": "56590fcd-8488-404d-880c-708330bc5439",
   "metadata": {},
   "source": [
    "<img src=\"HC_types.png\" />"
   ]
  },
  {
   "cell_type": "markdown",
   "id": "aea52a78-5702-4cc8-8bd6-437ad47f4efa",
   "metadata": {},
   "source": [
    "### Agglomerative Clustering Steps:\r\n",
    "\r\n",
    "1. **Initialization**:\r\n",
    "   - Start with each data point as a separate cluster.\r\n",
    "\r\n",
    "2. **Compute Pairwise Distances**:\r\n",
    "   - Calculate distances between cl using metrics such as Euclidean distance, Manhattan distance, or other distance measures.sters.\r\n",
    "\r\n",
    "3. **Merge Closest Clusters**:\r\n",
    "   - Merge the two closest based on different linkage criteria, such as single linkage, complete linkage, or average linkage.clusters.\r\n",
    "\r\n",
    "4. **Update Distance Matrix**:\r\n",
    "   - Recalculate distances between the new cluster and others.\r\n",
    "\r\n",
    "5. **Repeat**:\r\n",
    "   - Repeat steps 2-4 until termination criterion is met.\r\n",
    "\r\n",
    "6. **Termination**:\r\n",
    "   - Stop when desired number of clusters or distance threshold is reached.\r\n",
    "\r\n",
    "7. **Output**:\r\n",
    "   - Obtain a dendrogram showing cluster hierarchy and assign data points to final clusters.\r\n"
   ]
  },
  {
   "cell_type": "markdown",
   "id": "7be92cda-4560-497f-bc1b-eb8648d8bade",
   "metadata": {},
   "source": [
    "### Linkage - Measure for the distance between two clusters\n",
    "In agglomerative hierarchical clustering, the \"linkage\" refers to the criterion used to measure the distance or dissimilarity between clusters when deciding which clusters to merge at each step of the algorithm.The algorithm will merge the pairs of cluster that minimize this criterion.\r\n",
    "\n",
    "‘single’ - The distance between two clusters is defined as the shortest distance between any two points in the two clusters.\n",
    "\n",
    "‘complete’ or ‘maximum’ linkage - The distance between two clusters is defined as the longest distance between any two points in the two clusters.\n",
    "\n",
    "\r\n",
    "‘ward- ’ minimizes the variance of the clusters being merged.\r\n",
    "\r\n",
    "‘age' aver- The distance between two clusters is defined as the average distance between all pairs of points in the two clusters.wo sets."
   ]
  },
  {
   "cell_type": "markdown",
   "id": "bece7a44-0bdb-4110-ae96-ebe5e8df0617",
   "metadata": {},
   "source": [
    "### Dendrogram\n",
    "<img src='dendrogram.png'>"
   ]
  },
  {
   "cell_type": "markdown",
   "id": "31e114e9-f691-488c-a0fe-00fbc60284ea",
   "metadata": {},
   "source": [
    "Step-1: Firstly, the data points P2 and P3 merged together and form a cluster, correspondingly a dendrogram is created, which connects P2 and P3 with a rectangular shape. The height is decided according to the Euclidean distance between the data points.\r\n",
    "\r\n",
    "Step-2: In the next step, P5 and P6 form a cluster, and the corresponding dendrogram is created. It is higher than the previous, as the Euclidean distance between P5 and P6 is a little bit greater than the P2 and P3.\r\n",
    "\r\n",
    "Step-3: Again, two new dendrograms are formed that combine P1, P2, and P3 in one dendrogram, and P4, P5, and P6, in another dendrogram.\r\n",
    "\r\n",
    "Step-4: At last, the final dendrogram is formed that combines all the data points together.\r\n",
    "\r\n",
    "Note: As per our requirement according to the problem statement, we can cut the dendrogram at any level."
   ]
  },
  {
   "cell_type": "markdown",
   "id": "4cc2c120-d697-4e43-91eb-cb5148b44591",
   "metadata": {},
   "source": [
    "<h2 style='color:purple'> Implementation of Agglomerative Clustering</h2>"
   ]
  },
  {
   "cell_type": "code",
   "execution_count": 67,
   "id": "e0d6cd5e-33db-458d-b631-5313b3de9308",
   "metadata": {},
   "outputs": [
    {
     "data": {
      "text/html": [
       "<div>\n",
       "<style scoped>\n",
       "    .dataframe tbody tr th:only-of-type {\n",
       "        vertical-align: middle;\n",
       "    }\n",
       "\n",
       "    .dataframe tbody tr th {\n",
       "        vertical-align: top;\n",
       "    }\n",
       "\n",
       "    .dataframe thead th {\n",
       "        text-align: right;\n",
       "    }\n",
       "</style>\n",
       "<table border=\"1\" class=\"dataframe\">\n",
       "  <thead>\n",
       "    <tr style=\"text-align: right;\">\n",
       "      <th></th>\n",
       "      <th>Name</th>\n",
       "      <th>Age</th>\n",
       "      <th>Income($)</th>\n",
       "    </tr>\n",
       "  </thead>\n",
       "  <tbody>\n",
       "    <tr>\n",
       "      <th>0</th>\n",
       "      <td>Rob</td>\n",
       "      <td>27</td>\n",
       "      <td>70000</td>\n",
       "    </tr>\n",
       "    <tr>\n",
       "      <th>1</th>\n",
       "      <td>Michael</td>\n",
       "      <td>29</td>\n",
       "      <td>90000</td>\n",
       "    </tr>\n",
       "    <tr>\n",
       "      <th>2</th>\n",
       "      <td>Mohan</td>\n",
       "      <td>29</td>\n",
       "      <td>61000</td>\n",
       "    </tr>\n",
       "    <tr>\n",
       "      <th>3</th>\n",
       "      <td>Ismail</td>\n",
       "      <td>28</td>\n",
       "      <td>60000</td>\n",
       "    </tr>\n",
       "    <tr>\n",
       "      <th>4</th>\n",
       "      <td>Kory</td>\n",
       "      <td>42</td>\n",
       "      <td>150000</td>\n",
       "    </tr>\n",
       "  </tbody>\n",
       "</table>\n",
       "</div>"
      ],
      "text/plain": [
       "      Name  Age  Income($)\n",
       "0      Rob   27      70000\n",
       "1  Michael   29      90000\n",
       "2    Mohan   29      61000\n",
       "3   Ismail   28      60000\n",
       "4     Kory   42     150000"
      ]
     },
     "execution_count": 67,
     "metadata": {},
     "output_type": "execute_result"
    }
   ],
   "source": [
    "# import the dataset\n",
    "import pandas as pd\n",
    "df=pd.read_csv('Income.csv')\n",
    "df.head()"
   ]
  },
  {
   "cell_type": "code",
   "execution_count": 68,
   "id": "fbe6c86e-b90f-4c16-b245-5ed5ca062905",
   "metadata": {},
   "outputs": [
    {
     "data": {
      "text/html": [
       "<div>\n",
       "<style scoped>\n",
       "    .dataframe tbody tr th:only-of-type {\n",
       "        vertical-align: middle;\n",
       "    }\n",
       "\n",
       "    .dataframe tbody tr th {\n",
       "        vertical-align: top;\n",
       "    }\n",
       "\n",
       "    .dataframe thead th {\n",
       "        text-align: right;\n",
       "    }\n",
       "</style>\n",
       "<table border=\"1\" class=\"dataframe\">\n",
       "  <thead>\n",
       "    <tr style=\"text-align: right;\">\n",
       "      <th></th>\n",
       "      <th>Name</th>\n",
       "      <th>Age</th>\n",
       "      <th>Income</th>\n",
       "    </tr>\n",
       "  </thead>\n",
       "  <tbody>\n",
       "    <tr>\n",
       "      <th>0</th>\n",
       "      <td>Rob</td>\n",
       "      <td>27</td>\n",
       "      <td>70000</td>\n",
       "    </tr>\n",
       "    <tr>\n",
       "      <th>1</th>\n",
       "      <td>Michael</td>\n",
       "      <td>29</td>\n",
       "      <td>90000</td>\n",
       "    </tr>\n",
       "    <tr>\n",
       "      <th>2</th>\n",
       "      <td>Mohan</td>\n",
       "      <td>29</td>\n",
       "      <td>61000</td>\n",
       "    </tr>\n",
       "    <tr>\n",
       "      <th>3</th>\n",
       "      <td>Ismail</td>\n",
       "      <td>28</td>\n",
       "      <td>60000</td>\n",
       "    </tr>\n",
       "    <tr>\n",
       "      <th>4</th>\n",
       "      <td>Kory</td>\n",
       "      <td>42</td>\n",
       "      <td>150000</td>\n",
       "    </tr>\n",
       "  </tbody>\n",
       "</table>\n",
       "</div>"
      ],
      "text/plain": [
       "      Name  Age  Income\n",
       "0      Rob   27   70000\n",
       "1  Michael   29   90000\n",
       "2    Mohan   29   61000\n",
       "3   Ismail   28   60000\n",
       "4     Kory   42  150000"
      ]
     },
     "execution_count": 68,
     "metadata": {},
     "output_type": "execute_result"
    }
   ],
   "source": [
    "#rename the column Income($) to Income\n",
    "df=df.rename(columns={'Income($)':'Income'})\n",
    "df.head()"
   ]
  },
  {
   "cell_type": "code",
   "execution_count": 69,
   "id": "0c3ad1e5-a490-44d0-b49d-58fc11287d4c",
   "metadata": {},
   "outputs": [
    {
     "data": {
      "text/html": [
       "<div>\n",
       "<style scoped>\n",
       "    .dataframe tbody tr th:only-of-type {\n",
       "        vertical-align: middle;\n",
       "    }\n",
       "\n",
       "    .dataframe tbody tr th {\n",
       "        vertical-align: top;\n",
       "    }\n",
       "\n",
       "    .dataframe thead th {\n",
       "        text-align: right;\n",
       "    }\n",
       "</style>\n",
       "<table border=\"1\" class=\"dataframe\">\n",
       "  <thead>\n",
       "    <tr style=\"text-align: right;\">\n",
       "      <th></th>\n",
       "      <th>Name</th>\n",
       "      <th>Age</th>\n",
       "      <th>Income</th>\n",
       "    </tr>\n",
       "  </thead>\n",
       "  <tbody>\n",
       "    <tr>\n",
       "      <th>0</th>\n",
       "      <td>Rob</td>\n",
       "      <td>0.058824</td>\n",
       "      <td>0.213675</td>\n",
       "    </tr>\n",
       "    <tr>\n",
       "      <th>1</th>\n",
       "      <td>Michael</td>\n",
       "      <td>0.176471</td>\n",
       "      <td>0.384615</td>\n",
       "    </tr>\n",
       "    <tr>\n",
       "      <th>2</th>\n",
       "      <td>Mohan</td>\n",
       "      <td>0.176471</td>\n",
       "      <td>0.136752</td>\n",
       "    </tr>\n",
       "    <tr>\n",
       "      <th>3</th>\n",
       "      <td>Ismail</td>\n",
       "      <td>0.117647</td>\n",
       "      <td>0.128205</td>\n",
       "    </tr>\n",
       "    <tr>\n",
       "      <th>4</th>\n",
       "      <td>Kory</td>\n",
       "      <td>0.941176</td>\n",
       "      <td>0.897436</td>\n",
       "    </tr>\n",
       "  </tbody>\n",
       "</table>\n",
       "</div>"
      ],
      "text/plain": [
       "      Name       Age    Income\n",
       "0      Rob  0.058824  0.213675\n",
       "1  Michael  0.176471  0.384615\n",
       "2    Mohan  0.176471  0.136752\n",
       "3   Ismail  0.117647  0.128205\n",
       "4     Kory  0.941176  0.897436"
      ]
     },
     "execution_count": 69,
     "metadata": {},
     "output_type": "execute_result"
    }
   ],
   "source": [
    "# preprocessing age and income column using min max scaler\n",
    "from sklearn.preprocessing import MinMaxScaler\n",
    "scalar=MinMaxScaler()\n",
    "\n",
    "df['Age']=scalar.fit_transform(df[['Age']])\n",
    "df['Income']=scalar.fit_transform(df[['Income']])\n",
    "df.head()"
   ]
  },
  {
   "cell_type": "code",
   "execution_count": 70,
   "id": "5deb0ade-bd93-4fbe-874a-87ee4500055d",
   "metadata": {},
   "outputs": [
    {
     "data": {
      "image/png": "[encoded data removed]",
      "text/plain": [
       "<Figure size 640x480 with 1 Axes>"
      ]
     },
     "metadata": {},
     "output_type": "display_data"
    }
   ],
   "source": [
    "# Dendrogram plot\n",
    "import scipy.cluster.hierarchy as shc\n",
    "import matplotlib.pyplot as plt\n",
    "\n",
    "# Calculate linkage using Ward's method and create the dendrogram\n",
    "dendro = shc.dendrogram(shc.linkage(df[['Age','Income']], method=\"ward\"))\n",
    "\n",
    "plt.title(\"Dendrogram Plot\")\n",
    "plt.ylabel(\"Euclidean Distances\")\n",
    "plt.xlabel(\"Customers\")\n",
    "plt.show()\n"
   ]
  },
  {
   "cell_type": "markdown",
   "id": "d6054eca-ded2-403b-a7a7-c16341a2ea97",
   "metadata": {},
   "source": [
    "### How to Choose the Number of Clusters in Hierarchical Clustering?"
   ]
  },
  {
   "cell_type": "markdown",
   "id": "691e297d-e11a-4343-b6b8-50b3b069f11d",
   "metadata": {},
   "source": [
    "To get the number of clusters for hierarchical clustering, we make use of Dendrogram.\n",
    "\n",
    "The vertical axis of the dendrogram represents the distance or dissimilarity between clusters. More the distance of the vertical lines in the dendrogram, more the distance between those clusters.\n",
    "\n",
    "Now, we can set a threshold distance and draw a horizontal line."
   ]
  },
  {
   "cell_type": "code",
   "execution_count": 71,
   "id": "96cc5722-9b59-486e-a6e8-7ffe3549346d",
   "metadata": {},
   "outputs": [
    {
     "data": {
      "image/png": "[encoded data removed]",
      "text/plain": [
       "<Figure size 640x480 with 1 Axes>"
      ]
     },
     "metadata": {},
     "output_type": "display_data"
    }
   ],
   "source": [
    "dendro = shc.dendrogram(shc.linkage(df[['Age','Income']], method=\"ward\"))\n",
    "plt.hlines(y=1.5,xmin=0,xmax=500,lw=3,linestyles='--')\n",
    "plt.text(x=20,y=1.6,s='Horizontal line crossing 3 vertical lines')\n",
    "plt.title(\"Dendrogram Plot\")\n",
    "plt.ylabel(\"Euclidean Distances\")\n",
    "plt.xlabel(\"Customers\")\n",
    "plt.show()\n"
   ]
  },
  {
   "cell_type": "markdown",
   "id": "9427bd3e-6170-4943-926f-4bdfe577e7e2",
   "metadata": {},
   "source": [
    "Determining the threshold value for drawing the horizontal line in the dendrogram involves finding a balance between creating a sufficient number of clusters to capture meaningful patterns in the data and avoiding too many clusters that may result in overfitting or lack of interpretability. \n",
    "\n",
    "Inspect the dendrogram visually and look for significant jumps or gaps in the vertical lines. These jumps indicate larger dissimilarities between clusters and can serve as natural breakpoints for cutting the dendrogram. This point can be chosen as the threshold value for drawing the horizontal line.\n",
    "\n",
    "The number of clusters will be the number of vertical lines intersected by the line drawn using the threshold. "
   ]
  },
  {
   "cell_type": "code",
   "execution_count": 72,
   "id": "a09ccba5-21a1-42db-9358-1c657cc4492e",
   "metadata": {},
   "outputs": [
    {
     "data": {
      "text/plain": [
       "array([1, 1, 1, 1, 0, 0, 0, 0, 0, 0, 0, 1, 1, 1, 1, 1, 2, 2, 2, 2, 2, 2],\n",
       "      dtype=int64)"
      ]
     },
     "execution_count": 72,
     "metadata": {},
     "output_type": "execute_result"
    }
   ],
   "source": [
    "#build the model\n",
    "from sklearn.cluster import AgglomerativeClustering\n",
    "hc = AgglomerativeClustering(n_clusters = 3, metric = 'euclidean', linkage = 'ward')\n",
    "hc_pred = hc.fit_predict(df[['Age','Income']])\n",
    "hc_pred"
   ]
  },
  {
   "cell_type": "code",
   "execution_count": 73,
   "id": "b99dd65c-79d4-4cbe-8a8d-0c361ae03cc1",
   "metadata": {},
   "outputs": [
    {
     "data": {
      "text/html": [
       "<div>\n",
       "<style scoped>\n",
       "    .dataframe tbody tr th:only-of-type {\n",
       "        vertical-align: middle;\n",
       "    }\n",
       "\n",
       "    .dataframe tbody tr th {\n",
       "        vertical-align: top;\n",
       "    }\n",
       "\n",
       "    .dataframe thead th {\n",
       "        text-align: right;\n",
       "    }\n",
       "</style>\n",
       "<table border=\"1\" class=\"dataframe\">\n",
       "  <thead>\n",
       "    <tr style=\"text-align: right;\">\n",
       "      <th></th>\n",
       "      <th>Name</th>\n",
       "      <th>Age</th>\n",
       "      <th>Income</th>\n",
       "      <th>cluster</th>\n",
       "    </tr>\n",
       "  </thead>\n",
       "  <tbody>\n",
       "    <tr>\n",
       "      <th>0</th>\n",
       "      <td>Rob</td>\n",
       "      <td>0.058824</td>\n",
       "      <td>0.213675</td>\n",
       "      <td>1</td>\n",
       "    </tr>\n",
       "    <tr>\n",
       "      <th>1</th>\n",
       "      <td>Michael</td>\n",
       "      <td>0.176471</td>\n",
       "      <td>0.384615</td>\n",
       "      <td>1</td>\n",
       "    </tr>\n",
       "    <tr>\n",
       "      <th>2</th>\n",
       "      <td>Mohan</td>\n",
       "      <td>0.176471</td>\n",
       "      <td>0.136752</td>\n",
       "      <td>1</td>\n",
       "    </tr>\n",
       "    <tr>\n",
       "      <th>3</th>\n",
       "      <td>Ismail</td>\n",
       "      <td>0.117647</td>\n",
       "      <td>0.128205</td>\n",
       "      <td>1</td>\n",
       "    </tr>\n",
       "    <tr>\n",
       "      <th>4</th>\n",
       "      <td>Kory</td>\n",
       "      <td>0.941176</td>\n",
       "      <td>0.897436</td>\n",
       "      <td>0</td>\n",
       "    </tr>\n",
       "  </tbody>\n",
       "</table>\n",
       "</div>"
      ],
      "text/plain": [
       "      Name       Age    Income  cluster\n",
       "0      Rob  0.058824  0.213675        1\n",
       "1  Michael  0.176471  0.384615        1\n",
       "2    Mohan  0.176471  0.136752        1\n",
       "3   Ismail  0.117647  0.128205        1\n",
       "4     Kory  0.941176  0.897436        0"
      ]
     },
     "execution_count": 73,
     "metadata": {},
     "output_type": "execute_result"
    }
   ],
   "source": [
    "df['cluster']=hc_pred\n",
    "df.head()"
   ]
  },
  {
   "cell_type": "code",
   "execution_count": 74,
   "id": "dfe30054-8df7-4240-b869-2eecbf5e590d",
   "metadata": {},
   "outputs": [
    {
     "data": {
      "text/plain": [
       "<matplotlib.collections.PathCollection at 0x1c87c7e2a80>"
      ]
     },
     "execution_count": 74,
     "metadata": {},
     "output_type": "execute_result"
    },
    {
     "data": {
      "image/png": "[encoded data removed]",
      "text/plain": [
       "<Figure size 640x480 with 1 Axes>"
      ]
     },
     "metadata": {},
     "output_type": "display_data"
    }
   ],
   "source": [
    "df1 = df[df.cluster==0]\n",
    "df2 = df[df.cluster==1]\n",
    "df3 = df[df.cluster==2]\n",
    "\n",
    "plt.scatter(df1.Age,df1.Income,color='green')\n",
    "plt.scatter(df2.Age,df2.Income,color='red')\n",
    "plt.scatter(df3.Age,df3.Income,color='black')"
   ]
  },
  {
   "cell_type": "markdown",
   "id": "7dd6383f-aa27-437b-a0b3-66f90cadbf89",
   "metadata": {},
   "source": [
    "### Silhouette Analysis"
   ]
  },
  {
   "cell_type": "code",
   "execution_count": 75,
   "id": "8aa8ab82-326d-4c3d-b15d-9b2efb868e32",
   "metadata": {},
   "outputs": [
    {
     "data": {
      "text/plain": [
       "[0.5600636053855829,\n",
       " 0.7129710183539274,\n",
       " 0.6094875531451848,\n",
       " 0.49019707289438297,\n",
       " 0.4972566552560926,\n",
       " 0.4522080792289982,\n",
       " 0.3580059150146837,\n",
       " 0.32979725570383067,\n",
       " 0.3256586458131027]"
      ]
     },
     "execution_count": 75,
     "metadata": {},
     "output_type": "execute_result"
    }
   ],
   "source": [
    "from sklearn.metrics import silhouette_score\n",
    "s=[]\n",
    "k_rng=range(2,11)\n",
    "\n",
    "for k in k_rng:\n",
    "    hc=AgglomerativeClustering(n_clusters=k)\n",
    "    hc_pred=hc.fit_predict((df[['Age','Income']]))\n",
    "    s.append(silhouette_score(df[['Age', 'Income']], hc_pred))\n",
    "\n",
    "s"
   ]
  },
  {
   "cell_type": "markdown",
   "id": "0a662565-0e38-4d3d-b250-1b25090a01a4",
   "metadata": {},
   "source": [
    "Hierarchical clustering is better suited for small datasets due to its high time and space complexity."
   ]
  }
 ],
 "metadata": {
  "kernelspec": {
   "display_name": "Python 3 (ipykernel)",
   "language": "python",
   "name": "python3"
  },
  "language_info": {
   "codemirror_mode": {
    "name": "ipython",
    "version": 3
   },
   "file_extension": ".py",
   "mimetype": "text/x-python",
   "name": "python",
   "nbconvert_exporter": "python",
   "pygments_lexer": "ipython3",
   "version": "3.12.1"
  }
 },
 "nbformat": 4,
 "nbformat_minor": 5
}
